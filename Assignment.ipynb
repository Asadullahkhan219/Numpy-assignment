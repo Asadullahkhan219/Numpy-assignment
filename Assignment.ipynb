{
 "cells": [
  {
   "cell_type": "code",
   "execution_count": 1,
   "metadata": {},
   "outputs": [
    {
     "ename": "ModuleNotFoundError",
     "evalue": "No module named 'resizeimage'",
     "output_type": "error",
     "traceback": [
      "\u001b[1;31m---------------------------------------------------------------------------\u001b[0m",
      "\u001b[1;31mModuleNotFoundError\u001b[0m                       Traceback (most recent call last)",
      "\u001b[1;32m<ipython-input-1-4a2a1de9216a>\u001b[0m in \u001b[0;36m<module>\u001b[1;34m\u001b[0m\n\u001b[0;32m      2\u001b[0m \u001b[1;32mfrom\u001b[0m \u001b[0mPIL\u001b[0m \u001b[1;32mimport\u001b[0m \u001b[0mImage\u001b[0m\u001b[1;33m\u001b[0m\u001b[1;33m\u001b[0m\u001b[0m\n\u001b[0;32m      3\u001b[0m \u001b[1;32mimport\u001b[0m \u001b[0mos\u001b[0m\u001b[1;33m\u001b[0m\u001b[1;33m\u001b[0m\u001b[0m\n\u001b[1;32m----> 4\u001b[1;33m \u001b[1;32mfrom\u001b[0m \u001b[0mresizeimage\u001b[0m \u001b[1;32mimport\u001b[0m \u001b[0mresizeimage\u001b[0m\u001b[1;33m\u001b[0m\u001b[1;33m\u001b[0m\u001b[0m\n\u001b[0m\u001b[0;32m      5\u001b[0m \u001b[1;33m\u001b[0m\u001b[0m\n\u001b[0;32m      6\u001b[0m \u001b[1;33m\u001b[0m\u001b[0m\n",
      "\u001b[1;31mModuleNotFoundError\u001b[0m: No module named 'resizeimage'"
     ]
    }
   ],
   "source": [
    "import numpy as np\n",
    "from PIL import Image\n",
    "import os\n",
    "from resizeimage import resizeimage\n",
    "\n",
    "\n",
    "imageSize = (200, 200)\n",
    "picsDir = os.listdir('./photos')\n",
    "rootDir = './photos/'\n",
    "\n",
    "\n",
    "# THE FILES FINDER FUNCTION.\n",
    "def filesfinder(directory):\n",
    "    files_list = []\n",
    "\n",
    "    for pic in directory:\n",
    "        im = Image.open(rootDir + pic)\n",
    "\n",
    "        files_list.append(im)\n",
    "\n",
    "    length_of_list = len(files_list)\n",
    "\n",
    "    return length_of_list, files_list\n",
    "\n",
    "\n",
    "# THE RESIZING FUNCTION\n",
    "def resizing(image_size):\n",
    "    resized_images = []\n",
    "    for img in picsDir:\n",
    "        image = Image.open(rootDir + img)\n",
    "        image = resizeimage.resize_crop(image, image_size)\n",
    "        resized_images.append(image)\n",
    "\n",
    "    return resized_images\n",
    "\n",
    "\n",
    "# THE CONVERT TO NUMPY ARRAY FUNCTION\n",
    "def converttonumpyarray(list_of_resized_images):\n",
    "    for image in list_of_resized_images:\n",
    "        array1 = np.array(image).reshape(200, 200, 3)\n",
    "        for img in list_of_resized_images:\n",
    "            array2 = np.array(image).reshape(200, 200, 3)\n",
    "            array1 = np.concatenate((array1, array2))\n",
    "        break\n",
    "\n",
    "    return array1\n",
    "\n",
    "#THE MAIN FUNCTION\n",
    "\n",
    "def main():\n",
    "    # Finding files\n",
    "    num_of_files, list_of_pics = filesfinder(picsDir)\n",
    "    print('Number of files are : \\n ', num_of_files)\n",
    "\n",
    "    # Resizing pictures\n",
    "    resized_images = resizing(imageSize)\n",
    "    print(\"\\n\\n\\n Resized images are: \\n\")\n",
    "    print(resized_images)\n",
    "\n",
    "    # Converting to numpy array\n",
    "    nparray = converttonumpyarray(resized_images)\n",
    "    print(\"\\n\\n\\n Numpy array of 20 images are:\\n\")\n",
    "    print(nparray)\n",
    "\n",
    "    return nparray\n",
    "\n",
    "\n",
    "if __name__ == \"__main__\":\n",
    "    main()"
   ]
  },
  {
   "cell_type": "code",
   "execution_count": 2,
   "metadata": {},
   "outputs": [
    {
     "ename": "NameError",
     "evalue": "name 'main' is not defined",
     "output_type": "error",
     "traceback": [
      "\u001b[1;31m---------------------------------------------------------------------------\u001b[0m",
      "\u001b[1;31mNameError\u001b[0m                                 Traceback (most recent call last)",
      "\u001b[1;32m<ipython-input-2-263240bbee7e>\u001b[0m in \u001b[0;36m<module>\u001b[1;34m\u001b[0m\n\u001b[1;32m----> 1\u001b[1;33m \u001b[0mmain\u001b[0m\u001b[1;33m(\u001b[0m\u001b[1;33m)\u001b[0m\u001b[1;33m\u001b[0m\u001b[1;33m\u001b[0m\u001b[0m\n\u001b[0m",
      "\u001b[1;31mNameError\u001b[0m: name 'main' is not defined"
     ]
    }
   ],
   "source": [
    "main()"
   ]
  },
  {
   "cell_type": "code",
   "execution_count": null,
   "metadata": {},
   "outputs": [],
   "source": []
  }
 ],
 "metadata": {
  "kernelspec": {
   "display_name": "Python 3",
   "language": "python",
   "name": "python3"
  }
 },
 "nbformat": 4,
 "nbformat_minor": 2
}
